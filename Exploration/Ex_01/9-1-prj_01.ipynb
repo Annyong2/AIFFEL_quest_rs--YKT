{
 "cells": [
  {
   "cell_type": "code",
   "execution_count": 1,
   "id": "fce544a7",
   "metadata": {},
   "outputs": [],
   "source": [
    "import numpy as np\n",
    "import pandas as pd\n",
    "import matplotlib.pyplot as plt"
   ]
  },
  {
   "cell_type": "markdown",
   "id": "d495be30",
   "metadata": {},
   "source": [
    "### (1) 데이터 가져오기\n",
    "\n",
    "---\n",
    "\n",
    "- `sklearn.datasets`의 `load_diabetes`에서 데이터를 가져와주세요.\n",
    "- `diabetes`의 `data`를 `df_X`에, `target`을 `df_y`에 저장해주세요."
   ]
  },
  {
   "cell_type": "code",
   "execution_count": 2,
   "id": "2b5068ae",
   "metadata": {},
   "outputs": [],
   "source": [
    "from sklearn.datasets import load_diabetes"
   ]
  },
  {
   "cell_type": "code",
   "execution_count": 3,
   "id": "25aebd54",
   "metadata": {},
   "outputs": [
    {
     "name": "stdout",
     "output_type": "stream",
     "text": [
      "(442, 10)\n",
      "(442,)\n"
     ]
    }
   ],
   "source": [
    "dataset = load_diabetes()\n",
    "df_X, df_y = dataset.data, dataset.target\n",
    "print(df_X.shape, df_y.shape, sep='\\n')"
   ]
  },
  {
   "cell_type": "code",
   "execution_count": null,
   "id": "17661707",
   "metadata": {},
   "outputs": [],
   "source": []
  },
  {
   "cell_type": "markdown",
   "id": "3f8afdac",
   "metadata": {},
   "source": [
    "### (2) 모델에 입력할 데이터 `X` 준비하기\n",
    "\n",
    "---\n",
    "\n",
    "- `df_X`에 있는 값들을 numpy array로 변환해서 저장해주세요."
   ]
  },
  {
   "cell_type": "code",
   "execution_count": 4,
   "id": "b24acc55",
   "metadata": {},
   "outputs": [
    {
     "data": {
      "text/plain": [
       "array([[ 0.03807591,  0.05068012,  0.06169621, ..., -0.00259226,\n",
       "         0.01990842, -0.01764613],\n",
       "       [-0.00188202, -0.04464164, -0.05147406, ..., -0.03949338,\n",
       "        -0.06832974, -0.09220405],\n",
       "       [ 0.08529891,  0.05068012,  0.04445121, ..., -0.00259226,\n",
       "         0.00286377, -0.02593034],\n",
       "       ...,\n",
       "       [ 0.04170844,  0.05068012, -0.01590626, ..., -0.01107952,\n",
       "        -0.04687948,  0.01549073],\n",
       "       [-0.04547248, -0.04464164,  0.03906215, ...,  0.02655962,\n",
       "         0.04452837, -0.02593034],\n",
       "       [-0.04547248, -0.04464164, -0.0730303 , ..., -0.03949338,\n",
       "        -0.00421986,  0.00306441]])"
      ]
     },
     "execution_count": 4,
     "metadata": {},
     "output_type": "execute_result"
    }
   ],
   "source": [
    "df_X = np.array(df_X)  #? 이미 numpy array이지 않나?\n",
    "df_X"
   ]
  },
  {
   "cell_type": "markdown",
   "id": "e7ba7e3c",
   "metadata": {},
   "source": [
    "### (3) 모델에 예측할 데이터 `y` 준비하기\n",
    "\n",
    "---\n",
    "\n",
    "- `df_y`에 있는 값들을 numpy array로 변환해서 저장해주세요."
   ]
  },
  {
   "cell_type": "code",
   "execution_count": 5,
   "id": "9a735286",
   "metadata": {},
   "outputs": [
    {
     "data": {
      "text/plain": [
       "array([151.,  75., 141., 206., 135.,  97., 138.,  63., 110., 310., 101.,\n",
       "        69., 179., 185., 118., 171., 166., 144.,  97., 168.,  68.,  49.,\n",
       "        68., 245., 184., 202., 137.,  85., 131., 283., 129.,  59., 341.,\n",
       "        87.,  65., 102., 265., 276., 252.,  90., 100.,  55.,  61.,  92.,\n",
       "       259.,  53., 190., 142.,  75., 142., 155., 225.,  59., 104., 182.,\n",
       "       128.,  52.,  37., 170., 170.,  61., 144.,  52., 128.,  71., 163.,\n",
       "       150.,  97., 160., 178.,  48., 270., 202., 111.,  85.,  42., 170.,\n",
       "       200., 252., 113., 143.,  51.,  52., 210.,  65., 141.,  55., 134.,\n",
       "        42., 111.,  98., 164.,  48.,  96.,  90., 162., 150., 279.,  92.,\n",
       "        83., 128., 102., 302., 198.,  95.,  53., 134., 144., 232.,  81.,\n",
       "       104.,  59., 246., 297., 258., 229., 275., 281., 179., 200., 200.,\n",
       "       173., 180.,  84., 121., 161.,  99., 109., 115., 268., 274., 158.,\n",
       "       107.,  83., 103., 272.,  85., 280., 336., 281., 118., 317., 235.,\n",
       "        60., 174., 259., 178., 128.,  96., 126., 288.,  88., 292.,  71.,\n",
       "       197., 186.,  25.,  84.,  96., 195.,  53., 217., 172., 131., 214.,\n",
       "        59.,  70., 220., 268., 152.,  47.,  74., 295., 101., 151., 127.,\n",
       "       237., 225.,  81., 151., 107.,  64., 138., 185., 265., 101., 137.,\n",
       "       143., 141.,  79., 292., 178.,  91., 116.,  86., 122.,  72., 129.,\n",
       "       142.,  90., 158.,  39., 196., 222., 277.,  99., 196., 202., 155.,\n",
       "        77., 191.,  70.,  73.,  49.,  65., 263., 248., 296., 214., 185.,\n",
       "        78.,  93., 252., 150.,  77., 208.,  77., 108., 160.,  53., 220.,\n",
       "       154., 259.,  90., 246., 124.,  67.,  72., 257., 262., 275., 177.,\n",
       "        71.,  47., 187., 125.,  78.,  51., 258., 215., 303., 243.,  91.,\n",
       "       150., 310., 153., 346.,  63.,  89.,  50.,  39., 103., 308., 116.,\n",
       "       145.,  74.,  45., 115., 264.,  87., 202., 127., 182., 241.,  66.,\n",
       "        94., 283.,  64., 102., 200., 265.,  94., 230., 181., 156., 233.,\n",
       "        60., 219.,  80.,  68., 332., 248.,  84., 200.,  55.,  85.,  89.,\n",
       "        31., 129.,  83., 275.,  65., 198., 236., 253., 124.,  44., 172.,\n",
       "       114., 142., 109., 180., 144., 163., 147.,  97., 220., 190., 109.,\n",
       "       191., 122., 230., 242., 248., 249., 192., 131., 237.,  78., 135.,\n",
       "       244., 199., 270., 164.,  72.,  96., 306.,  91., 214.,  95., 216.,\n",
       "       263., 178., 113., 200., 139., 139.,  88., 148.,  88., 243.,  71.,\n",
       "        77., 109., 272.,  60.,  54., 221.,  90., 311., 281., 182., 321.,\n",
       "        58., 262., 206., 233., 242., 123., 167.,  63., 197.,  71., 168.,\n",
       "       140., 217., 121., 235., 245.,  40.,  52., 104., 132.,  88.,  69.,\n",
       "       219.,  72., 201., 110.,  51., 277.,  63., 118.,  69., 273., 258.,\n",
       "        43., 198., 242., 232., 175.,  93., 168., 275., 293., 281.,  72.,\n",
       "       140., 189., 181., 209., 136., 261., 113., 131., 174., 257.,  55.,\n",
       "        84.,  42., 146., 212., 233.,  91., 111., 152., 120.,  67., 310.,\n",
       "        94., 183.,  66., 173.,  72.,  49.,  64.,  48., 178., 104., 132.,\n",
       "       220.,  57.])"
      ]
     },
     "execution_count": 5,
     "metadata": {},
     "output_type": "execute_result"
    }
   ],
   "source": [
    "df_y = np.array(df_y)\n",
    "df_y"
   ]
  },
  {
   "cell_type": "markdown",
   "id": "a883a171",
   "metadata": {},
   "source": [
    "### (4) train 데이터와 test 데이터로 분리하기\n",
    "\n",
    "---\n",
    "\n",
    "- `X`와 `y` 데이터를 각각 train 데이터와 test 데이터로 분리해주세요."
   ]
  },
  {
   "cell_type": "code",
   "execution_count": 6,
   "id": "7895cf74",
   "metadata": {},
   "outputs": [],
   "source": [
    "from sklearn.model_selection import train_test_split\n",
    "\n",
    "X_train, X_test, y_train, y_test = train_test_split(df_X, df_y, test_size=0.2, random_state=42)"
   ]
  },
  {
   "cell_type": "markdown",
   "id": "4ae5c239",
   "metadata": {},
   "source": [
    "### (5) 모델 준비하기\n",
    "\n",
    "---\n",
    "\n",
    "- 입력 데이터 개수에 맞는 가중치 `W`와 `b`를 준비해주세요.\n",
    "- 모델 함수를 구현해주세요."
   ]
  },
  {
   "cell_type": "code",
   "execution_count": 7,
   "id": "3816f6dd",
   "metadata": {},
   "outputs": [],
   "source": [
    "W = np.random.rand(10)\n",
    "b = np.random.rand()"
   ]
  },
  {
   "cell_type": "code",
   "execution_count": 8,
   "id": "8c18d3a6",
   "metadata": {},
   "outputs": [],
   "source": [
    "def model(X, W, b):\n",
    "    pred = 0\n",
    "    for i in range(10):\n",
    "        # X의 모든 샘플에 대해 i번째 특성(column)과 W의 i번째 가중치를 곱한 값을 변수에 더한다.\n",
    "        pred += X[:, i] * W[i]\n",
    "    pred += b\n",
    "    return pred"
   ]
  },
  {
   "cell_type": "markdown",
   "id": "204354ba",
   "metadata": {},
   "source": [
    "### (6) 손실함수 `loss` 정의하기\n",
    "\n",
    "---\n",
    "\n",
    "- 손실함수를 MSE 함수로 정의해주세요."
   ]
  },
  {
   "cell_type": "code",
   "execution_count": 9,
   "id": "f4f6a2ae",
   "metadata": {},
   "outputs": [],
   "source": [
    "def loss_mse(X, W, b, y):\n",
    "    pred = model(X, W, b)\n",
    "    truth = y  # shadowing\n",
    "    loss = ((pred - truth) ** 2).mean()  # Mean Square Error\n",
    "    return loss"
   ]
  },
  {
   "cell_type": "markdown",
   "id": "f6184b5b",
   "metadata": {},
   "source": [
    "### (7) 기울기를 구하는 `gradient` 함수 구현하기\n",
    "\n",
    "---\n",
    "\n",
    "- 기울기를 계산하는 `gradient` 함수를 구현해주세요."
   ]
  },
  {
   "cell_type": "code",
   "execution_count": 10,
   "id": "98b4c2e4",
   "metadata": {},
   "outputs": [
    {
     "name": "stdout",
     "output_type": "stream",
     "text": [
      "dW: [-1.8558086  -0.10548709 -4.97731505 -3.71175686 -1.30579502 -0.89412011\n",
      "  3.11397901 -3.27145052 -4.47799205 -3.51369068]\n",
      "db: -307.1423406527752\n"
     ]
    }
   ],
   "source": [
    "def gradient(X, W, b, y):\n",
    "    # 데이터 포인트 개수\n",
    "    N = len(y)\n",
    "    \n",
    "    # 예측값\n",
    "    y_pred = model(X, W, b)\n",
    "    \n",
    "    # gradient 계산\n",
    "    d_W = 1/N * 2 * X.T.dot(y_pred - y)\n",
    "    d_b = 2 * (y_pred - y).mean()\n",
    "    return d_W, d_b\n",
    "\n",
    "d_W, d_b = gradient(X_train, W, b, y_train)  # 훈련 데이터셋으로 진행\n",
    "print(\"d_W:\", d_W)\n",
    "print(\"d_b:\", d_b)"
   ]
  },
  {
   "cell_type": "markdown",
   "id": "ad083979",
   "metadata": {},
   "source": [
    "### (8) 하이퍼 파라미터인 학습률 설정하기\n",
    "\n",
    "---\n",
    "\n",
    "- 학습률, learning rate 를 설정해주세요\n",
    "- 만약 학습이 잘 되지 않는다면 learning rate 값을 한번 여러 가지로 설정하며 실험해 보세요."
   ]
  },
  {
   "cell_type": "code",
   "execution_count": 11,
   "id": "775b892b",
   "metadata": {},
   "outputs": [],
   "source": [
    "LEARNING_RATE = 0.05"
   ]
  },
  {
   "cell_type": "markdown",
   "id": "581cf5a1",
   "metadata": {},
   "source": [
    "### (9) 모델 학습하기\n",
    "\n",
    "---\n",
    "\n",
    "- 정의된 손실함수와 기울기 함수로 모델을 학습해주세요."
   ]
  },
  {
   "cell_type": "code",
   "execution_count": 12,
   "id": "68f9a99d",
   "metadata": {},
   "outputs": [
    {
     "name": "stdout",
     "output_type": "stream",
     "text": [
      "반복 순회 no.10000 : 손실 2914.7064760972958\n",
      "반복 순회 no.20000 : 손실 2898.0081625194293\n",
      "반복 순회 no.30000 : 손실 2896.220714672719\n",
      "반복 순회 no.40000 : 손실 2895.0436274417793\n",
      "반복 순회 no.50000 : 손실 2893.951215250974\n",
      "반복 순회 no.60000 : 손실 2892.907357269109\n",
      "반복 순회 no.70000 : 손실 2891.907291439883\n",
      "반복 순회 no.80000 : 손실 2890.948787881102\n",
      "반복 순회 no.90000 : 손실 2890.029960563266\n"
     ]
    }
   ],
   "source": [
    "losses = []\n",
    "\n",
    "def custom_fit(iter, X, W, b, y):\n",
    "    for i in range(1, iter):\n",
    "        d_W, d_b = gradient(X, W, b, y)\n",
    "        W -= LEARNING_RATE * d_W\n",
    "        b -= LEARNING_RATE * d_b\n",
    "        L = loss_mse(X, W, b, y)\n",
    "        losses.append(L)\n",
    "        \n",
    "        if i % 10000 == 0:\n",
    "            print(f\"반복 순회 no.{i} : 손실 {L}\")\n",
    "            \n",
    "    \n",
    "custom_fit(100000, X_train, W, b, y_train)"
   ]
  },
  {
   "cell_type": "code",
   "execution_count": 13,
   "id": "367c776c",
   "metadata": {},
   "outputs": [
    {
     "data": {
      "image/png": "[encoded data removed]",
      "text/plain": [
       "<Figure size 432x288 with 1 Axes>"
      ]
     },
     "metadata": {
      "needs_background": "light"
     },
     "output_type": "display_data"
    }
   ],
   "source": [
    "plt.plot(losses)\n",
    "plt.show()"
   ]
  },
  {
   "cell_type": "code",
   "execution_count": 14,
   "id": "3ee794cd",
   "metadata": {},
   "outputs": [
    {
     "name": "stdout",
     "output_type": "stream",
     "text": [
      "[  41.7980332  -240.41014613  556.03035733  343.29987455 -226.5961229\n",
      "  -33.63015419 -154.31122689  175.53404328  466.80422579   53.71411691]\n",
      "\n",
      "0.162926425505589\n"
     ]
    }
   ],
   "source": [
    "print(W, b, sep='\\n\\n')"
   ]
  },
  {
   "cell_type": "markdown",
   "id": "ebeb7b8c",
   "metadata": {},
   "source": [
    "### (10) test 데이터에 대한 성능 확인하기\n",
    "\n",
    "---\n",
    "\n",
    "- test 데이터에 대한 성능을 확인해주세요."
   ]
  },
  {
   "cell_type": "code",
   "execution_count": 15,
   "id": "62cad121",
   "metadata": {},
   "outputs": [
    {
     "data": {
      "text/plain": [
       "26968.034544005546"
      ]
     },
     "execution_count": 15,
     "metadata": {},
     "output_type": "execute_result"
    }
   ],
   "source": [
    "prediction = model(X_test, W, b)\n",
    "mse = loss_mse(X_test, W, b, y_test)\n",
    "mse"
   ]
  },
  {
   "cell_type": "markdown",
   "id": "8c9527dd",
   "metadata": {},
   "source": [
    "### (11) 정답 데이터와 예측한 데이터 시각화하기\n",
    "\n",
    "---\n",
    "\n",
    "- x축에는 X 데이터의 첫 번째 컬럼을, y축에는 정답인 target 데이터를 넣어서 모델이 예측한 데이터를 시각화해 주세요."
   ]
  },
  {
   "cell_type": "code",
   "execution_count": 18,
   "id": "13818b41",
   "metadata": {},
   "outputs": [
    {
     "data": {
      "image/png": "[encoded data removed]",
      "text/plain": [
       "<Figure size 432x288 with 1 Axes>"
      ]
     },
     "metadata": {
      "needs_background": "light"
     },
     "output_type": "display_data"
    }
   ],
   "source": [
    "plt.scatter(X_test[:, 0], y_test)\n",
    "plt.scatter(X_test[:, 0], prediction)\n",
    "plt.show()"
   ]
  },
  {
   "cell_type": "code",
   "execution_count": null,
   "id": "3b5accb5",
   "metadata": {},
   "outputs": [],
   "source": []
  }
 ],
 "metadata": {
  "kernelspec": {
   "display_name": "Python 3 (ipykernel)",
   "language": "python",
   "name": "python3"
  },
  "language_info": {
   "codemirror_mode": {
    "name": "ipython",
    "version": 3
   },
   "file_extension": ".py",
   "mimetype": "text/x-python",
   "name": "python",
   "nbconvert_exporter": "python",
   "pygments_lexer": "ipython3",
   "version": "3.9.7"
  }
 },
 "nbformat": 4,
 "nbformat_minor": 5
}
